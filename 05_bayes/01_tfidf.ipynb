{
 "cells": [
  {
   "cell_type": "markdown",
   "id": "2668cb4c",
   "metadata": {},
   "source": [
    "# TF-IDF"
   ]
  },
  {
   "cell_type": "code",
   "execution_count": null,
   "id": "64dd93a0",
   "metadata": {},
   "outputs": [],
   "source": [
    "##keep\n",
    "import pandas as pd\n",
    "import numpy as np\n",
    "from sklearn.feature_extraction.text import TfidfVectorizer"
   ]
  },
  {
   "cell_type": "code",
   "execution_count": null,
   "id": "c031503e",
   "metadata": {},
   "outputs": [],
   "source": [
    "##keep\n",
    "corpus = [\n",
    "    'This is the first document.',\n",
    "    'This document is the second document.',\n",
    "    'And this is the third one.',\n",
    "    'Is this the first document?',\n",
    "]"
   ]
  },
  {
   "cell_type": "markdown",
   "id": "a58808c1",
   "metadata": {},
   "source": [
    "## 构建对象"
   ]
  },
  {
   "cell_type": "code",
   "execution_count": null,
   "id": "3ed84b8e",
   "metadata": {},
   "outputs": [],
   "source": []
  },
  {
   "cell_type": "markdown",
   "id": "ae85576d",
   "metadata": {},
   "source": [
    "## 适配并转换"
   ]
  },
  {
   "cell_type": "code",
   "execution_count": null,
   "id": "31277da4",
   "metadata": {},
   "outputs": [],
   "source": []
  },
  {
   "cell_type": "markdown",
   "id": "65581514",
   "metadata": {},
   "source": [
    "## 获得特征名称"
   ]
  },
  {
   "cell_type": "code",
   "execution_count": null,
   "id": "0cc1c78b",
   "metadata": {},
   "outputs": [],
   "source": []
  },
  {
   "cell_type": "markdown",
   "id": "d9d3da43",
   "metadata": {},
   "source": [
    "## 展示X的内容"
   ]
  },
  {
   "cell_type": "code",
   "execution_count": null,
   "id": "d639a6f6",
   "metadata": {},
   "outputs": [],
   "source": []
  }
 ],
 "metadata": {
  "kernelspec": {
   "display_name": "Python 3 (ipykernel)",
   "language": "python",
   "name": "python3"
  },
  "language_info": {
   "codemirror_mode": {
    "name": "ipython",
    "version": 3
   },
   "file_extension": ".py",
   "mimetype": "text/x-python",
   "name": "python",
   "nbconvert_exporter": "python",
   "pygments_lexer": "ipython3",
   "version": "3.8.12"
  },
  "toc": {
   "base_numbering": 1,
   "nav_menu": {},
   "number_sections": true,
   "sideBar": true,
   "skip_h1_title": false,
   "title_cell": "Table of Contents",
   "title_sidebar": "Contents",
   "toc_cell": false,
   "toc_position": {},
   "toc_section_display": true,
   "toc_window_display": false
  }
 },
 "nbformat": 4,
 "nbformat_minor": 5
}
