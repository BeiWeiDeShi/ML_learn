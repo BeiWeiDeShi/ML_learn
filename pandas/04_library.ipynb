{
 "cells": [
  {
   "cell_type": "markdown",
   "id": "fd8c6648",
   "metadata": {},
   "source": [
    "# 概要与映射"
   ]
  },
  {
   "cell_type": "code",
   "execution_count": null,
   "id": "ae0d2c26",
   "metadata": {},
   "outputs": [],
   "source": [
    "##keep\n",
    "import pandas as pd"
   ]
  },
  {
   "cell_type": "markdown",
   "id": "b530d2e0",
   "metadata": {},
   "source": [
    "## 导入数据"
   ]
  },
  {
   "cell_type": "code",
   "execution_count": null,
   "id": "619d1e87",
   "metadata": {},
   "outputs": [],
   "source": []
  },
  {
   "cell_type": "markdown",
   "id": "481d6485",
   "metadata": {},
   "source": [
    "## 查看所有的列名"
   ]
  },
  {
   "cell_type": "code",
   "execution_count": null,
   "id": "dbbe3bee",
   "metadata": {},
   "outputs": [],
   "source": []
  },
  {
   "cell_type": "markdown",
   "id": "c77254d6",
   "metadata": {},
   "source": [
    "## 查看数据的概要"
   ]
  },
  {
   "cell_type": "code",
   "execution_count": null,
   "id": "0bccf63f",
   "metadata": {},
   "outputs": [],
   "source": []
  },
  {
   "cell_type": "markdown",
   "id": "8a875cea",
   "metadata": {},
   "source": [
    "## 列出各个不同“评估定级情况”的图书馆数量"
   ]
  },
  {
   "cell_type": "code",
   "execution_count": null,
   "id": "0dc2a331",
   "metadata": {},
   "outputs": [],
   "source": []
  },
  {
   "cell_type": "markdown",
   "id": "b8c6dca5",
   "metadata": {},
   "source": [
    "## “总藏量”减去平均值"
   ]
  },
  {
   "cell_type": "code",
   "execution_count": null,
   "id": "4417d93b",
   "metadata": {},
   "outputs": [],
   "source": []
  },
  {
   "cell_type": "markdown",
   "id": "274199a8",
   "metadata": {},
   "source": [
    "## 找出单位名称中有“金华”，“宁波”字样的图书馆数量\n",
    "输出的数据会是下面的样子：  \n",
    "```\n",
    "金华   XX \n",
    "宁波   XX \n",
    "```"
   ]
  },
  {
   "cell_type": "code",
   "execution_count": null,
   "id": "c864de43",
   "metadata": {},
   "outputs": [],
   "source": []
  },
  {
   "cell_type": "markdown",
   "id": "9c7b91db",
   "metadata": {},
   "source": [
    "## 自定义等级\n",
    "根据以下的规则，给图书馆分级：\n",
    "- A级：总藏量和电子图书相加之和大于等于10000000，建筑面积大于等于10000。\n",
    "- B级：总藏量和电子图书相加之和大于等于5000000，建筑面积大于等于5000。\n",
    "- C级：其余图书馆\n",
    "\n",
    "根据自定义等级，列出各个等级图书馆的数量。"
   ]
  },
  {
   "cell_type": "code",
   "execution_count": null,
   "id": "0aff7ddd",
   "metadata": {},
   "outputs": [],
   "source": []
  }
 ],
 "metadata": {
  "kernelspec": {
   "display_name": "Python 3",
   "language": "python",
   "name": "python3"
  },
  "language_info": {
   "codemirror_mode": {
    "name": "ipython",
    "version": 3
   },
   "file_extension": ".py",
   "mimetype": "text/x-python",
   "name": "python",
   "nbconvert_exporter": "python",
   "pygments_lexer": "ipython3",
   "version": "3.7.10"
  },
  "toc": {
   "base_numbering": 1,
   "nav_menu": {},
   "number_sections": true,
   "sideBar": true,
   "skip_h1_title": false,
   "title_cell": "Table of Contents",
   "title_sidebar": "Contents",
   "toc_cell": false,
   "toc_position": {},
   "toc_section_display": true,
   "toc_window_display": false
  }
 },
 "nbformat": 4,
 "nbformat_minor": 5
}
