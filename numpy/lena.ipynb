{
 "cells": [
  {
   "cell_type": "markdown",
   "id": "b2bf1033",
   "metadata": {},
   "source": [
    "# 图像处理"
   ]
  },
  {
   "cell_type": "code",
   "execution_count": null,
   "id": "ab90671e",
   "metadata": {},
   "outputs": [],
   "source": [
    "##keep\n",
    "import numpy as np\n",
    "from PIL import Image\n",
    "import matplotlib.pyplot as plt"
   ]
  },
  {
   "cell_type": "code",
   "execution_count": null,
   "id": "6a38fbdc",
   "metadata": {},
   "outputs": [],
   "source": [
    "##keep\n",
    "lena = Image.open('./images/lena_std.png')\n",
    "lena = np.array(lena)\n",
    "lena.shape"
   ]
  },
  {
   "cell_type": "code",
   "execution_count": null,
   "id": "4eb2f997",
   "metadata": {},
   "outputs": [],
   "source": [
    "##keep\n",
    "plt.imshow(lena)"
   ]
  },
  {
   "cell_type": "markdown",
   "id": "3425fcb1",
   "metadata": {},
   "source": [
    "## 上下翻转"
   ]
  },
  {
   "cell_type": "code",
   "execution_count": null,
   "id": "17e46b1f",
   "metadata": {},
   "outputs": [],
   "source": []
  },
  {
   "cell_type": "markdown",
   "id": "b74bbcee",
   "metadata": {},
   "source": [
    "## 左右翻转"
   ]
  },
  {
   "cell_type": "code",
   "execution_count": null,
   "id": "19576f74",
   "metadata": {},
   "outputs": [],
   "source": []
  },
  {
   "cell_type": "markdown",
   "id": "9663ba79",
   "metadata": {},
   "source": [
    "## 截取图片下半部分"
   ]
  },
  {
   "cell_type": "code",
   "execution_count": null,
   "id": "d2fda679",
   "metadata": {},
   "outputs": [],
   "source": []
  },
  {
   "cell_type": "markdown",
   "id": "4ba714ad",
   "metadata": {},
   "source": [
    "## 间隔行列采样"
   ]
  },
  {
   "cell_type": "code",
   "execution_count": null,
   "id": "89a7cbd9",
   "metadata": {},
   "outputs": [],
   "source": []
  },
  {
   "cell_type": "markdown",
   "id": "e5055088",
   "metadata": {},
   "source": [
    "## 纵向拉伸两倍"
   ]
  },
  {
   "cell_type": "code",
   "execution_count": null,
   "id": "491ecd3d",
   "metadata": {},
   "outputs": [],
   "source": []
  },
  {
   "cell_type": "code",
   "execution_count": null,
   "id": "b5506184",
   "metadata": {},
   "outputs": [],
   "source": []
  },
  {
   "cell_type": "markdown",
   "id": "cdb08cae",
   "metadata": {},
   "source": [
    "## 遮罩效果\n",
    "找出数组中所有的偶数，并把它们置0（出于演示目的而随意选定的标准）。效果相当于在图像上画了很多蓝色的点。"
   ]
  },
  {
   "cell_type": "code",
   "execution_count": null,
   "id": "42652e9e",
   "metadata": {},
   "outputs": [],
   "source": []
  },
  {
   "cell_type": "markdown",
   "id": "44a288e3",
   "metadata": {},
   "source": [
    "## 画两条交叉的对角线"
   ]
  },
  {
   "cell_type": "code",
   "execution_count": null,
   "id": "04c75787",
   "metadata": {},
   "outputs": [],
   "source": []
  }
 ],
 "metadata": {
  "kernelspec": {
   "display_name": "Python 3 (ipykernel)",
   "language": "python",
   "name": "python3"
  },
  "language_info": {
   "codemirror_mode": {
    "name": "ipython",
    "version": 3
   },
   "file_extension": ".py",
   "mimetype": "text/x-python",
   "name": "python",
   "nbconvert_exporter": "python",
   "pygments_lexer": "ipython3",
   "version": "3.8.12"
  },
  "toc": {
   "base_numbering": 1,
   "nav_menu": {},
   "number_sections": true,
   "sideBar": true,
   "skip_h1_title": false,
   "title_cell": "Table of Contents",
   "title_sidebar": "Contents",
   "toc_cell": false,
   "toc_position": {},
   "toc_section_display": true,
   "toc_window_display": false
  }
 },
 "nbformat": 4,
 "nbformat_minor": 5
}
